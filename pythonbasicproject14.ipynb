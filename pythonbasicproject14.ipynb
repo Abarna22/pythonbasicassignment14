{
 "cells": [
  {
   "cell_type": "code",
   "execution_count": 1,
   "id": "2503bf35",
   "metadata": {},
   "outputs": [
    {
     "name": "stdout",
     "output_type": "stream",
     "text": [
      "8\n",
      "[0, 7]\n",
      "0 True\n",
      "1 False\n",
      "2 False\n",
      "3 False\n",
      "4 False\n",
      "5 False\n",
      "6 False\n",
      "7 True\n"
     ]
    }
   ],
   "source": [
    "#qp1\n",
    "\n",
    "n = int(input())\n",
    "divBy7 = [i for i in range(0, n) if (i % 7 == 0)]\n",
    "print(divBy7)\n",
    "\n",
    "def divChecker(n):\n",
    "    for i in range(n):\n",
    "        if i % 7 == 0:\n",
    "            value = True\n",
    "        else:\n",
    "            value = False\n",
    "        print(i, value)\n",
    "\n",
    "divChecker(n)"
   ]
  },
  {
   "cell_type": "code",
   "execution_count": 4,
   "id": "afd8853f",
   "metadata": {},
   "outputs": [
    {
     "name": "stdout",
     "output_type": "stream",
     "text": [
      "{'New': 1, 'to': 1, 'Python': 5, 'or': 2, 'choosing': 1, 'between': 1, '2': 2, 'and': 1, '3?': 1, 'Read': 1, '3': 1}\n"
     ]
    }
   ],
   "source": [
    "#qp2\n",
    "\n",
    "\n",
    "def word_count(str):\n",
    "    counts = dict()\n",
    "    words = str.split()\n",
    "\n",
    "    for word in words:\n",
    "        if word in counts:\n",
    "            counts[word] += 1\n",
    "        else:\n",
    "            counts[word] = 1\n",
    "\n",
    "    return counts\n",
    "\n",
    "print( word_count('New to Python or choosing between Python 2 and Python 3? Read Python 2 or Python 3'))"
   ]
  },
  {
   "cell_type": "code",
   "execution_count": 6,
   "id": "6bb21668",
   "metadata": {},
   "outputs": [
    {
     "name": "stdout",
     "output_type": "stream",
     "text": [
      "male\n",
      "female\n"
     ]
    }
   ],
   "source": [
    "#qp3\n",
    "\n",
    "class person():\n",
    "    def get_gender(self):\n",
    "        return \"person\"\n",
    "    \n",
    "class male(person):\n",
    "    def get_gender(self):\n",
    "        return \"male\"\n",
    "\n",
    "class female(person):\n",
    "    def get_gender(self):\n",
    "        return \"female\"\n",
    "    \n",
    "am=male()\n",
    "af=female()\n",
    "\n",
    "print(am.get_gender())\n",
    "print(af.get_gender())\n",
    "        "
   ]
  },
  {
   "cell_type": "code",
   "execution_count": 9,
   "id": "2696eb0b",
   "metadata": {},
   "outputs": [
    {
     "name": "stdout",
     "output_type": "stream",
     "text": [
      "I Play Hockey\n",
      "I Play Football\n",
      "I Love Hockey\n",
      "I Love Football\n",
      "You Play Hockey\n",
      "You Play Football\n",
      "You Love Hockey\n",
      "You Love Football\n"
     ]
    }
   ],
   "source": [
    "#qp4\n",
    "\n",
    "subject= [\"I\",\"You\"] \n",
    "verb =[\"Play\", \"Love\"] \n",
    "objec =[\"Hockey\",\"Football\"]\n",
    "for i in range(len(subject)):\n",
    "    for j in range(len(verb)):\n",
    "        for k in range(len(objec)):\n",
    "            s= \"%s %s %s\" % (subject[i], verb[j], objec[k])\n",
    "            print(s)\n"
   ]
  },
  {
   "cell_type": "code",
   "execution_count": 23,
   "id": "5b278a63",
   "metadata": {},
   "outputs": [
    {
     "name": "stdout",
     "output_type": "stream",
     "text": [
      "b'\\x1f\\x8b\\x08\\x00mj\\x82b\\x02\\xff\\xcbH\\xcd\\xc9\\xc9W(\\xcf/\\xcaIQ\\xcc \\x82\\r\\x00\\xd3\\xe6\\xcf\\xae0\\x00\\x00\\x00'\n",
      "b'hello world!hello world!hello world!hello world!'\n"
     ]
    }
   ],
   "source": [
    "#qp5\n",
    "\n",
    "import gzip\n",
    "s = 'hello world!hello world!hello world!hello world!'.encode()\n",
    "s = gzip.compress(s)\n",
    "print(s)\n",
    "  \n",
    "t = gzip.decompress(s)\n",
    "print(t)"
   ]
  },
  {
   "cell_type": "code",
   "execution_count": null,
   "id": "cca65916",
   "metadata": {},
   "outputs": [],
   "source": [
    "#qp6\n",
    "\n",
    "def bi_search(l1,n):\n",
    "    low=0\n",
    "    high=len(l1)-1\n",
    "    mid=0\n",
    "    \n",
    "    while low<=high:\n",
    "        mid= (high+low)//2\n",
    "        \n",
    "    if l1(mid)==n:\n",
    "        return mid\n",
    "    \n",
    "    elif l1(mid)<n:\n",
    "        low=mid+1\n",
    "    \n",
    "    else:\n",
    "        high = mid-1\n",
    "    \n",
    "    return -1\n",
    "\n",
    "l1=[12,13,14,15,16,27]\n",
    "n=15\n",
    "\n",
    "result=bi_search(l1,n)\n",
    "\n",
    "if result != -1:\n",
    "    print(\"Element is present in index: \",str(result))\n",
    "else:\n",
    "    print(\"Element not in list\")\n",
    "\n",
    "        "
   ]
  },
  {
   "cell_type": "code",
   "execution_count": null,
   "id": "fa451738",
   "metadata": {},
   "outputs": [],
   "source": []
  }
 ],
 "metadata": {
  "kernelspec": {
   "display_name": "Python 3",
   "language": "python",
   "name": "python3"
  },
  "language_info": {
   "codemirror_mode": {
    "name": "ipython",
    "version": 3
   },
   "file_extension": ".py",
   "mimetype": "text/x-python",
   "name": "python",
   "nbconvert_exporter": "python",
   "pygments_lexer": "ipython3",
   "version": "3.8.8"
  }
 },
 "nbformat": 4,
 "nbformat_minor": 5
}
